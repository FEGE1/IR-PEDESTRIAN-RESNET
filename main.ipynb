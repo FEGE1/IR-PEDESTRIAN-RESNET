{
 "cells": [
  {
   "cell_type": "code",
   "execution_count": 130,
   "metadata": {},
   "outputs": [],
   "source": [
    "import torch\n",
    "import torch.nn as nn\n",
    "import torch.nn.functional as F\n",
    "import torch.optim as optim\n",
    "from PIL import Image\n",
    "import matplotlib.pyplot as plt\n",
    "import numpy as np\n",
    "import os\n",
    "from pathlib import Path\n",
    "import time"
   ]
  },
  {
   "cell_type": "code",
   "execution_count": 131,
   "metadata": {},
   "outputs": [
    {
     "name": "stdout",
     "output_type": "stream",
     "text": [
      "MPS (GPU) kullanılacak.\n"
     ]
    }
   ],
   "source": [
    "# GPU desteği var mı kontrol et\n",
    "if torch.backends.mps.is_available():\n",
    "    device = torch.device(\"mps\")  # Apple Metal GPU backend\n",
    "    print(\"MPS (GPU) kullanılacak.\")\n",
    "else:\n",
    "    device = torch.device(\"cpu\")\n",
    "    print(\"GPU desteklenmiyor, CPU kullanılacak.\")"
   ]
  },
  {
   "cell_type": "code",
   "execution_count": 132,
   "metadata": {},
   "outputs": [],
   "source": [
    "def read_images(path, num_img):\n",
    "    array = np.zeros((num_img, 64*32))\n",
    "    i = 0\n",
    "    for img in os.listdir(path):\n",
    "        img_path = path + '/' + img\n",
    "        img = Image.open(img_path, mode= 'r')\n",
    "        data = np.asanyarray(img, dtype= 'uint8') # Image to array with unit8 format\n",
    "        data = data.flatten()\n",
    "        array[i,:] = data\n",
    "        i += 1\n",
    "    return array"
   ]
  },
  {
   "cell_type": "markdown",
   "metadata": {},
   "source": [
    "<h3>Negatives"
   ]
  },
  {
   "cell_type": "code",
   "execution_count": 133,
   "metadata": {},
   "outputs": [],
   "source": [
    "train_negative_path = r'Data/LSIFIR/Classification/Train/neg'\n",
    "num_train_negative_img = 43390"
   ]
  },
  {
   "cell_type": "code",
   "execution_count": 134,
   "metadata": {},
   "outputs": [],
   "source": [
    "train_negative_array = read_images(train_negative_path, num_train_negative_img)"
   ]
  },
  {
   "cell_type": "code",
   "execution_count": 135,
   "metadata": {},
   "outputs": [],
   "source": [
    "x_train_negative_tensor = torch.from_numpy(train_negative_array)"
   ]
  },
  {
   "cell_type": "code",
   "execution_count": 136,
   "metadata": {},
   "outputs": [],
   "source": [
    "y_train_negative_tensor = torch.zeros(num_train_negative_img, dtype= torch.long)"
   ]
  },
  {
   "cell_type": "markdown",
   "metadata": {},
   "source": [
    "<h3>Positives"
   ]
  },
  {
   "cell_type": "code",
   "execution_count": 137,
   "metadata": {},
   "outputs": [],
   "source": [
    "train_positive_path = r'Data/LSIFIR/Classification/Train/pos'\n",
    "num_train_positive_img = 10208"
   ]
  },
  {
   "cell_type": "code",
   "execution_count": 138,
   "metadata": {},
   "outputs": [],
   "source": [
    "train_positive_array = read_images(train_positive_path, num_train_positive_img)"
   ]
  },
  {
   "cell_type": "code",
   "execution_count": 139,
   "metadata": {},
   "outputs": [],
   "source": [
    "x_train_positive_tensor = torch.from_numpy(train_positive_array)"
   ]
  },
  {
   "cell_type": "code",
   "execution_count": 140,
   "metadata": {},
   "outputs": [],
   "source": [
    "y_train_positive_tensor = torch.ones(num_train_positive_img, dtype= torch.long)"
   ]
  },
  {
   "cell_type": "markdown",
   "metadata": {},
   "source": [
    "<h3>Concat Train"
   ]
  },
  {
   "cell_type": "code",
   "execution_count": 141,
   "metadata": {},
   "outputs": [],
   "source": [
    "x_train = torch.cat((x_train_negative_tensor,x_train_positive_tensor),0)\n",
    "y_train = torch.cat((y_train_negative_tensor,y_train_positive_tensor),0)"
   ]
  },
  {
   "cell_type": "code",
   "execution_count": 142,
   "metadata": {},
   "outputs": [
    {
     "name": "stdout",
     "output_type": "stream",
     "text": [
      "x_train:  torch.Size([53598, 2048])\n",
      "y_train:  torch.Size([53598])\n"
     ]
    }
   ],
   "source": [
    "print(\"x_train: \",x_train.size())\n",
    "print(\"y_train: \",y_train.size())"
   ]
  },
  {
   "cell_type": "markdown",
   "metadata": {},
   "source": [
    "<h3>Test Negative"
   ]
  },
  {
   "cell_type": "code",
   "execution_count": 143,
   "metadata": {},
   "outputs": [],
   "source": [
    "test_negative_path = r'Data/LSIFIR/Classification/Test/neg'\n",
    "num_test_negative_img = 22050"
   ]
  },
  {
   "cell_type": "code",
   "execution_count": 144,
   "metadata": {},
   "outputs": [],
   "source": [
    "test_negative_array = read_images(test_negative_path,num_test_negative_img)"
   ]
  },
  {
   "cell_type": "code",
   "execution_count": 145,
   "metadata": {},
   "outputs": [],
   "source": [
    "x_test_negative_tensor = torch.tensor(test_negative_array[:20855,:])\n",
    "y_test_negative_tensor = torch.zeros(20855, dtype= torch.long)"
   ]
  },
  {
   "cell_type": "markdown",
   "metadata": {},
   "source": [
    "<h3>Test Positive"
   ]
  },
  {
   "cell_type": "code",
   "execution_count": 146,
   "metadata": {},
   "outputs": [],
   "source": [
    "test_positive_path = r'Data/LSIFIR/Classification/Test/pos'\n",
    "num_test_positive_img = 5944"
   ]
  },
  {
   "cell_type": "code",
   "execution_count": 147,
   "metadata": {},
   "outputs": [],
   "source": [
    "test_positive_array = read_images(test_positive_path,num_test_positive_img)"
   ]
  },
  {
   "cell_type": "code",
   "execution_count": 148,
   "metadata": {},
   "outputs": [],
   "source": [
    "x_test_positive_tensor = torch.tensor(test_positive_array)\n",
    "y_test_positive_tensor = torch.ones(num_test_positive_img, dtype=torch.long)"
   ]
  },
  {
   "cell_type": "markdown",
   "metadata": {},
   "source": [
    "<h3>Concat Test"
   ]
  },
  {
   "cell_type": "code",
   "execution_count": 149,
   "metadata": {},
   "outputs": [],
   "source": [
    "x_test = torch.cat((x_test_negative_tensor, x_test_positive_tensor), 0)\n",
    "y_test = torch.cat((y_test_negative_tensor, y_test_positive_tensor), 0)"
   ]
  },
  {
   "cell_type": "code",
   "execution_count": 150,
   "metadata": {},
   "outputs": [
    {
     "data": {
      "text/plain": [
       "<matplotlib.image.AxesImage at 0x3e4de20f0>"
      ]
     },
     "execution_count": 150,
     "metadata": {},
     "output_type": "execute_result"
    },
    {
     "data": {
      "image/png": "[encoded data removed]",
      "text/plain": [
       "<Figure size 640x480 with 1 Axes>"
      ]
     },
     "metadata": {},
     "output_type": "display_data"
    }
   ],
   "source": [
    "plt.imshow(x_train[49001,:].reshape(64,32,), cmap='gray')"
   ]
  },
  {
   "cell_type": "code",
   "execution_count": 151,
   "metadata": {},
   "outputs": [],
   "source": [
    "#Hyperparameter\n",
    "num_epochs = 5000\n",
    "num_classes = 2\n",
    "batch_size = 8933\n",
    "learning_rate = 0.00001"
   ]
  },
  {
   "cell_type": "code",
   "execution_count": 152,
   "metadata": {},
   "outputs": [],
   "source": [
    "train = torch.utils.data.TensorDataset(x_train, y_train) # Train verilerimizi Troch için uygun formata getirme\n",
    "trainloader = torch.utils.data.DataLoader(train,batch_size= batch_size, shuffle=True ) # Uygun formata getirilmiş train setimizi hyperparametreler ile initialize etme\n",
    "\n",
    "test = torch.utils.data.TensorDataset(x_train, y_train) # Test verilerimizi Troch için uygun formata getirme\n",
    "testloader = torch.utils.data.DataLoader(test,batch_size= batch_size, shuffle=False ) # Uygun formata getirilmiş train setimizi hyperparametreler ile initialize etme"
   ]
  },
  {
   "cell_type": "markdown",
   "metadata": {},
   "source": [
    "<h1 style=\"color:aqua;\"> -------- ResNet --------"
   ]
  },
  {
   "cell_type": "code",
   "execution_count": 153,
   "metadata": {},
   "outputs": [],
   "source": [
    "def conv3x3(in_planes, out_planes, stride= 1):\n",
    "    return nn.Conv2d(in_planes,out_planes, kernel_size= 3, stride= stride, padding= 1, bias= False)\n",
    "\n",
    "def conv1x1(in_planes, out_planes, stride= 1):\n",
    "    return nn.Conv2d(in_planes,out_planes, kernel_size= 1, stride= stride, bias= False)"
   ]
  },
  {
   "cell_type": "code",
   "execution_count": 154,
   "metadata": {},
   "outputs": [],
   "source": [
    "class BasicBlock(nn.Module):\n",
    "    expansion = 1\n",
    "\n",
    "    def __init__(self,inplanes, planes, stride= 1, downsample= None):\n",
    "        super(BasicBlock,self).__init__()\n",
    "\n",
    "        self.conv1 = conv3x3(inplanes, planes, stride)\n",
    "        self.bn1 = nn.BatchNorm2d(planes)\n",
    "        self.relu = nn.ReLU(inplace= True) # inplace = Reluyu çağırdıktan sonra sonucu kendisine eşitleme\n",
    "        self.drop = nn.Dropout(0.6)\n",
    "        self.conv2 = conv3x3(planes, planes)\n",
    "        self.bn2 = nn.BatchNorm2d(planes)\n",
    "        self.downsample = downsample\n",
    "        self.stride = stride\n",
    "\n",
    "    def forward(self,x):\n",
    "        identity = x\n",
    "\n",
    "        out = self.conv1(x)\n",
    "        out = self.bn1(out)\n",
    "        out = self.relu(out)\n",
    "        out = self.drop(out)\n",
    "        out = self.conv2(out)\n",
    "        out = self.bn2(out)\n",
    "        out = self.drop(out)\n",
    "\n",
    "        if self.downsample is not None:\n",
    "            identity = self.downsample(x)\n",
    "\n",
    "        if out.shape != identity.shape:\n",
    "            identity = nn.functional.adaptive_avg_pool2d(identity, out.shape[2:])\n",
    "\n",
    "        out = out + identity  # ResNet için shortcut yaptığımız yer\n",
    "        out = self.relu(out)\n",
    "\n",
    "        return out\n"
   ]
  },
  {
   "cell_type": "code",
   "execution_count": 155,
   "metadata": {},
   "outputs": [],
   "source": [
    "class ResNet(nn.Module):\n",
    "    def __init__(self,block, layers, num_classes= num_classes):\n",
    "        super(ResNet,self).__init__()\n",
    "        self.inplanes = 64\n",
    "        self.conv1 = nn.Conv2d(1, 64, kernel_size= 7, stride= 2, padding= 3, bias= False)\n",
    "        self.bn1 = nn.BatchNorm2d(64)\n",
    "        self.relu = nn.ReLU(inplace= True)\n",
    "        self.maxpool = nn.MaxPool2d(kernel_size= 3, stride= 2, padding= 1)\n",
    "\n",
    "        self.layer1 = self._make_layer(block, 64, layers[0],stride= 1)\n",
    "        self.layer2 = self._make_layer(block, 128, layers[1],stride= 2)\n",
    "        self.layer3 = self._make_layer(block, 256, layers[2],stride= 2)\n",
    "\n",
    "        self.avgpool = nn.AdaptiveAvgPool2d((1,1))\n",
    "        self.fc = nn.Linear(256*block.expansion, num_classes)\n",
    "\n",
    "        for m in self.modules():\n",
    "            if isinstance(m,nn.Conv2d):\n",
    "                nn.init.kaiming_normal_(m.weight, mode = \"fan_out\", nonlinearity= \"relu\")\n",
    "            elif isinstance(m, nn.BatchNorm2d):\n",
    "                nn.init.constant_(m.weight,1) # tüm weight'leri 1'e eşitle\n",
    "                nn.init.constant_(m.bias,0) # tüm bias'leri sıfırla\n",
    "\n",
    "    def _make_layer(self, block, planes, blocks_num, stride= 1):\n",
    "        downsample = None\n",
    "        if stride != 1 or self.inplanes != planes * block.expansion:\n",
    "            downsample = nn.Sequential(\n",
    "                conv1x1(self.inplanes, planes*block.expansion, stride),\n",
    "                nn.BatchNorm2d(planes*block.expansion)\n",
    "            )\n",
    "\n",
    "        layers = []\n",
    "        layers.append(block(self.inplanes, planes, stride, downsample))\n",
    "        self.inplanes = planes*block.expansion\n",
    "        for _ in range(1,blocks_num):\n",
    "            layers.append(block(self.inplanes, planes))\n",
    "\n",
    "        return nn.Sequential(*layers)\n",
    "\n",
    "    def forward(self, x):\n",
    "        x = self.conv1(x)\n",
    "        x = self.bn1(x)\n",
    "        x = self.relu(x)\n",
    "        x = self.maxpool(x)\n",
    "\n",
    "        x = self.layer1(x)\n",
    "        x = self.layer2(x)\n",
    "        x = self.layer3(x)\n",
    "\n",
    "        x = self.avgpool(x)\n",
    "        x = x.view(x.size(0), -1) # Flatten\n",
    "        x = self.fc(x)\n",
    "\n",
    "        return x"
   ]
  },
  {
   "cell_type": "code",
   "execution_count": 156,
   "metadata": {},
   "outputs": [],
   "source": [
    "model = ResNet(BasicBlock, [2,2,2],num_classes=2).to(device)"
   ]
  },
  {
   "cell_type": "code",
   "execution_count": 157,
   "metadata": {},
   "outputs": [],
   "source": [
    "criterion = nn.CrossEntropyLoss()\n",
    "optimizer = torch.optim.Adam(model.parameters(), lr= learning_rate, weight_decay=1e-4)"
   ]
  },
  {
   "cell_type": "markdown",
   "metadata": {},
   "source": [
    "<h2>Train"
   ]
  },
  {
   "cell_type": "code",
   "execution_count": 158,
   "metadata": {},
   "outputs": [],
   "source": [
    "loss_list = []\n",
    "train_acc = []\n",
    "test_acc = []\n",
    "use_gpu = True\n",
    "\n",
    "total_step = len(trainloader)"
   ]
  },
  {
   "cell_type": "code",
   "execution_count": 159,
   "metadata": {},
   "outputs": [
    {
     "name": "stdout",
     "output_type": "stream",
     "text": [
      "epoch: 0 0/6\n",
      "epoch: 0 2/6\n",
      "epoch: 0 4/6\n",
      "Accuracy Train 41 %\n",
      "Accuracy test 41 %\n",
      "Yeni en iyi model kaydedildi! Test accuracy: 41.25%\n",
      "epoch: 1 0/6\n",
      "epoch: 1 2/6\n",
      "epoch: 1 4/6\n",
      "Accuracy Train 43 %\n",
      "Accuracy test 43 %\n",
      "Yeni en iyi model kaydedildi! Test accuracy: 43.35%\n",
      "epoch: 2 0/6\n",
      "epoch: 2 2/6\n",
      "epoch: 2 4/6\n",
      "Accuracy Train 45 %\n",
      "Accuracy test 45 %\n",
      "Yeni en iyi model kaydedildi! Test accuracy: 45.23%\n",
      "epoch: 3 0/6\n",
      "epoch: 3 2/6\n"
     ]
    },
    {
     "ename": "KeyboardInterrupt",
     "evalue": "",
     "output_type": "error",
     "traceback": [
      "\u001b[0;31m---------------------------------------------------------------------------\u001b[0m",
      "\u001b[0;31mKeyboardInterrupt\u001b[0m                         Traceback (most recent call last)",
      "Cell \u001b[0;32mIn[159], line 17\u001b[0m\n\u001b[1;32m     15\u001b[0m \u001b[38;5;66;03m#backward and optimization\u001b[39;00m\n\u001b[1;32m     16\u001b[0m optimizer\u001b[38;5;241m.\u001b[39mzero_grad()\n\u001b[0;32m---> 17\u001b[0m \u001b[43mloss\u001b[49m\u001b[38;5;241;43m.\u001b[39;49m\u001b[43mbackward\u001b[49m\u001b[43m(\u001b[49m\u001b[43m)\u001b[49m\n\u001b[1;32m     18\u001b[0m optimizer\u001b[38;5;241m.\u001b[39mstep()\n\u001b[1;32m     20\u001b[0m \u001b[38;5;28;01mif\u001b[39;00m i\u001b[38;5;241m%\u001b[39m\u001b[38;5;241m2\u001b[39m \u001b[38;5;241m==\u001b[39m \u001b[38;5;241m0\u001b[39m:\n",
      "File \u001b[0;32m~/Documents/python_env2/env/lib/python3.12/site-packages/torch/_tensor.py:581\u001b[0m, in \u001b[0;36mTensor.backward\u001b[0;34m(self, gradient, retain_graph, create_graph, inputs)\u001b[0m\n\u001b[1;32m    571\u001b[0m \u001b[38;5;28;01mif\u001b[39;00m has_torch_function_unary(\u001b[38;5;28mself\u001b[39m):\n\u001b[1;32m    572\u001b[0m     \u001b[38;5;28;01mreturn\u001b[39;00m handle_torch_function(\n\u001b[1;32m    573\u001b[0m         Tensor\u001b[38;5;241m.\u001b[39mbackward,\n\u001b[1;32m    574\u001b[0m         (\u001b[38;5;28mself\u001b[39m,),\n\u001b[0;32m   (...)\u001b[0m\n\u001b[1;32m    579\u001b[0m         inputs\u001b[38;5;241m=\u001b[39minputs,\n\u001b[1;32m    580\u001b[0m     )\n\u001b[0;32m--> 581\u001b[0m \u001b[43mtorch\u001b[49m\u001b[38;5;241;43m.\u001b[39;49m\u001b[43mautograd\u001b[49m\u001b[38;5;241;43m.\u001b[39;49m\u001b[43mbackward\u001b[49m\u001b[43m(\u001b[49m\n\u001b[1;32m    582\u001b[0m \u001b[43m    \u001b[49m\u001b[38;5;28;43mself\u001b[39;49m\u001b[43m,\u001b[49m\u001b[43m \u001b[49m\u001b[43mgradient\u001b[49m\u001b[43m,\u001b[49m\u001b[43m \u001b[49m\u001b[43mretain_graph\u001b[49m\u001b[43m,\u001b[49m\u001b[43m \u001b[49m\u001b[43mcreate_graph\u001b[49m\u001b[43m,\u001b[49m\u001b[43m \u001b[49m\u001b[43minputs\u001b[49m\u001b[38;5;241;43m=\u001b[39;49m\u001b[43minputs\u001b[49m\n\u001b[1;32m    583\u001b[0m \u001b[43m\u001b[49m\u001b[43m)\u001b[49m\n",
      "File \u001b[0;32m~/Documents/python_env2/env/lib/python3.12/site-packages/torch/autograd/__init__.py:347\u001b[0m, in \u001b[0;36mbackward\u001b[0;34m(tensors, grad_tensors, retain_graph, create_graph, grad_variables, inputs)\u001b[0m\n\u001b[1;32m    342\u001b[0m     retain_graph \u001b[38;5;241m=\u001b[39m create_graph\n\u001b[1;32m    344\u001b[0m \u001b[38;5;66;03m# The reason we repeat the same comment below is that\u001b[39;00m\n\u001b[1;32m    345\u001b[0m \u001b[38;5;66;03m# some Python versions print out the first line of a multi-line function\u001b[39;00m\n\u001b[1;32m    346\u001b[0m \u001b[38;5;66;03m# calls in the traceback and some print out the last line\u001b[39;00m\n\u001b[0;32m--> 347\u001b[0m \u001b[43m_engine_run_backward\u001b[49m\u001b[43m(\u001b[49m\n\u001b[1;32m    348\u001b[0m \u001b[43m    \u001b[49m\u001b[43mtensors\u001b[49m\u001b[43m,\u001b[49m\n\u001b[1;32m    349\u001b[0m \u001b[43m    \u001b[49m\u001b[43mgrad_tensors_\u001b[49m\u001b[43m,\u001b[49m\n\u001b[1;32m    350\u001b[0m \u001b[43m    \u001b[49m\u001b[43mretain_graph\u001b[49m\u001b[43m,\u001b[49m\n\u001b[1;32m    351\u001b[0m \u001b[43m    \u001b[49m\u001b[43mcreate_graph\u001b[49m\u001b[43m,\u001b[49m\n\u001b[1;32m    352\u001b[0m \u001b[43m    \u001b[49m\u001b[43minputs\u001b[49m\u001b[43m,\u001b[49m\n\u001b[1;32m    353\u001b[0m \u001b[43m    \u001b[49m\u001b[43mallow_unreachable\u001b[49m\u001b[38;5;241;43m=\u001b[39;49m\u001b[38;5;28;43;01mTrue\u001b[39;49;00m\u001b[43m,\u001b[49m\n\u001b[1;32m    354\u001b[0m \u001b[43m    \u001b[49m\u001b[43maccumulate_grad\u001b[49m\u001b[38;5;241;43m=\u001b[39;49m\u001b[38;5;28;43;01mTrue\u001b[39;49;00m\u001b[43m,\u001b[49m\n\u001b[1;32m    355\u001b[0m \u001b[43m\u001b[49m\u001b[43m)\u001b[49m\n",
      "File \u001b[0;32m~/Documents/python_env2/env/lib/python3.12/site-packages/torch/autograd/graph.py:825\u001b[0m, in \u001b[0;36m_engine_run_backward\u001b[0;34m(t_outputs, *args, **kwargs)\u001b[0m\n\u001b[1;32m    823\u001b[0m     unregister_hooks \u001b[38;5;241m=\u001b[39m _register_logging_hooks_on_whole_graph(t_outputs)\n\u001b[1;32m    824\u001b[0m \u001b[38;5;28;01mtry\u001b[39;00m:\n\u001b[0;32m--> 825\u001b[0m     \u001b[38;5;28;01mreturn\u001b[39;00m \u001b[43mVariable\u001b[49m\u001b[38;5;241;43m.\u001b[39;49m\u001b[43m_execution_engine\u001b[49m\u001b[38;5;241;43m.\u001b[39;49m\u001b[43mrun_backward\u001b[49m\u001b[43m(\u001b[49m\u001b[43m  \u001b[49m\u001b[38;5;66;43;03m# Calls into the C++ engine to run the backward pass\u001b[39;49;00m\n\u001b[1;32m    826\u001b[0m \u001b[43m        \u001b[49m\u001b[43mt_outputs\u001b[49m\u001b[43m,\u001b[49m\u001b[43m \u001b[49m\u001b[38;5;241;43m*\u001b[39;49m\u001b[43margs\u001b[49m\u001b[43m,\u001b[49m\u001b[43m \u001b[49m\u001b[38;5;241;43m*\u001b[39;49m\u001b[38;5;241;43m*\u001b[39;49m\u001b[43mkwargs\u001b[49m\n\u001b[1;32m    827\u001b[0m \u001b[43m    \u001b[49m\u001b[43m)\u001b[49m  \u001b[38;5;66;03m# Calls into the C++ engine to run the backward pass\u001b[39;00m\n\u001b[1;32m    828\u001b[0m \u001b[38;5;28;01mfinally\u001b[39;00m:\n\u001b[1;32m    829\u001b[0m     \u001b[38;5;28;01mif\u001b[39;00m attach_logging_hooks:\n",
      "\u001b[0;31mKeyboardInterrupt\u001b[0m: "
     ]
    }
   ],
   "source": [
    "best_acc = 0\n",
    "\n",
    "for epoch in range(num_epochs):\n",
    "    for i, (images, labels) in enumerate(trainloader):\n",
    "        images = images.view(batch_size,1,64,32)\n",
    "        images = images.float()\n",
    "\n",
    "        if use_gpu:\n",
    "            images, labels = images.to(device), labels.to(device)\n",
    "\n",
    "        outputs = model(images)\n",
    "\n",
    "        loss = criterion(outputs, labels)\n",
    "\n",
    "        #backward and optimization\n",
    "        optimizer.zero_grad()\n",
    "        loss.backward()\n",
    "        optimizer.step()\n",
    "\n",
    "        if i%2 == 0:\n",
    "          print(f\"epoch: {epoch} {i}/{total_step}\")\n",
    "    #train\n",
    "    correct = 0\n",
    "    total = 0\n",
    "    with torch.no_grad():\n",
    "        for data in trainloader:\n",
    "          images, labels = data\n",
    "          images = images.view(batch_size,1,64,32)\n",
    "          images = images.float()\n",
    "\n",
    "          if use_gpu:\n",
    "            images, labels = images.to(device), labels.to(device)\n",
    "\n",
    "          outputs = model(images)\n",
    "          _, predicted = torch.max(outputs.data, 1)\n",
    "          total += labels.size(0)\n",
    "          correct += (predicted == labels).sum().item()\n",
    "\n",
    "    print(\"Accuracy Train %d %%\"%(100*correct/total))\n",
    "    train_acc.append(100*correct/total)\n",
    "\n",
    "    #test\n",
    "    correct = 0\n",
    "    total = 0\n",
    "    with torch.no_grad():\n",
    "        for data in testloader:\n",
    "          images, labels = data\n",
    "          images = images.view(batch_size,1,64,32)\n",
    "          images = images.float()\n",
    "\n",
    "          if use_gpu:\n",
    "            images, labels = images.to(device), labels.to(device)\n",
    "\n",
    "          outputs = model(images)\n",
    "          _, predicted = torch.max(outputs.data, 1)\n",
    "          total += labels.size(0)\n",
    "          correct += (predicted == labels).sum().item()\n",
    "\n",
    "    print(\"Accuracy test %d %%\"%(100*correct/total))\n",
    "    test_acc.append(100*correct/total)\n",
    "\n",
    "    loss_list.append(loss.item())\n",
    "\n",
    "    if test_acc[-1] > best_acc:\n",
    "      best_acc = test_acc[-1]\n",
    "      torch.save(model.state_dict(), 'best_resnet_mac.pth')\n",
    "      print(f\"Yeni en iyi model kaydedildi! Test accuracy: {best_acc:.2f}%\")\n"
   ]
  },
  {
   "cell_type": "code",
   "execution_count": 160,
   "metadata": {},
   "outputs": [
    {
     "name": "stderr",
     "output_type": "stream",
     "text": [
      "/var/folders/n8/s31rrs_j13l45k2k_6kxm44w0000gn/T/ipykernel_34951/52847382.py:1: FutureWarning: You are using `torch.load` with `weights_only=False` (the current default value), which uses the default pickle module implicitly. It is possible to construct malicious pickle data which will execute arbitrary code during unpickling (See https://github.com/pytorch/pytorch/blob/main/SECURITY.md#untrusted-models for more details). In a future release, the default value for `weights_only` will be flipped to `True`. This limits the functions that could be executed during unpickling. Arbitrary objects will no longer be allowed to be loaded via this mode unless they are explicitly allowlisted by the user via `torch.serialization.add_safe_globals`. We recommend you start setting `weights_only=True` for any use case where you don't have full control of the loaded file. Please open an issue on GitHub for any issues related to this experimental feature.\n",
      "  model.load_state_dict(torch.load('best_resnet4.pth',map_location=torch.device(device)))\n"
     ]
    },
    {
     "data": {
      "text/plain": [
       "<All keys matched successfully>"
      ]
     },
     "execution_count": 160,
     "metadata": {},
     "output_type": "execute_result"
    }
   ],
   "source": [
    "model.load_state_dict(torch.load('best_resnet4.pth',map_location=torch.device(device)))"
   ]
  },
  {
   "cell_type": "code",
   "execution_count": 161,
   "metadata": {},
   "outputs": [
    {
     "data": {
      "text/plain": [
       "ResNet(\n",
       "  (conv1): Conv2d(1, 64, kernel_size=(7, 7), stride=(2, 2), padding=(3, 3), bias=False)\n",
       "  (bn1): BatchNorm2d(64, eps=1e-05, momentum=0.1, affine=True, track_running_stats=True)\n",
       "  (relu): ReLU(inplace=True)\n",
       "  (maxpool): MaxPool2d(kernel_size=3, stride=2, padding=1, dilation=1, ceil_mode=False)\n",
       "  (layer1): Sequential(\n",
       "    (0): BasicBlock(\n",
       "      (conv1): Conv2d(64, 64, kernel_size=(3, 3), stride=(1, 1), padding=(1, 1), bias=False)\n",
       "      (bn1): BatchNorm2d(64, eps=1e-05, momentum=0.1, affine=True, track_running_stats=True)\n",
       "      (relu): ReLU(inplace=True)\n",
       "      (drop): Dropout(p=0.6, inplace=False)\n",
       "      (conv2): Conv2d(64, 64, kernel_size=(3, 3), stride=(1, 1), padding=(1, 1), bias=False)\n",
       "      (bn2): BatchNorm2d(64, eps=1e-05, momentum=0.1, affine=True, track_running_stats=True)\n",
       "    )\n",
       "    (1): BasicBlock(\n",
       "      (conv1): Conv2d(64, 64, kernel_size=(3, 3), stride=(1, 1), padding=(1, 1), bias=False)\n",
       "      (bn1): BatchNorm2d(64, eps=1e-05, momentum=0.1, affine=True, track_running_stats=True)\n",
       "      (relu): ReLU(inplace=True)\n",
       "      (drop): Dropout(p=0.6, inplace=False)\n",
       "      (conv2): Conv2d(64, 64, kernel_size=(3, 3), stride=(1, 1), padding=(1, 1), bias=False)\n",
       "      (bn2): BatchNorm2d(64, eps=1e-05, momentum=0.1, affine=True, track_running_stats=True)\n",
       "    )\n",
       "  )\n",
       "  (layer2): Sequential(\n",
       "    (0): BasicBlock(\n",
       "      (conv1): Conv2d(64, 128, kernel_size=(3, 3), stride=(2, 2), padding=(1, 1), bias=False)\n",
       "      (bn1): BatchNorm2d(128, eps=1e-05, momentum=0.1, affine=True, track_running_stats=True)\n",
       "      (relu): ReLU(inplace=True)\n",
       "      (drop): Dropout(p=0.6, inplace=False)\n",
       "      (conv2): Conv2d(128, 128, kernel_size=(3, 3), stride=(1, 1), padding=(1, 1), bias=False)\n",
       "      (bn2): BatchNorm2d(128, eps=1e-05, momentum=0.1, affine=True, track_running_stats=True)\n",
       "      (downsample): Sequential(\n",
       "        (0): Conv2d(64, 128, kernel_size=(1, 1), stride=(2, 2), bias=False)\n",
       "        (1): BatchNorm2d(128, eps=1e-05, momentum=0.1, affine=True, track_running_stats=True)\n",
       "      )\n",
       "    )\n",
       "    (1): BasicBlock(\n",
       "      (conv1): Conv2d(128, 128, kernel_size=(3, 3), stride=(1, 1), padding=(1, 1), bias=False)\n",
       "      (bn1): BatchNorm2d(128, eps=1e-05, momentum=0.1, affine=True, track_running_stats=True)\n",
       "      (relu): ReLU(inplace=True)\n",
       "      (drop): Dropout(p=0.6, inplace=False)\n",
       "      (conv2): Conv2d(128, 128, kernel_size=(3, 3), stride=(1, 1), padding=(1, 1), bias=False)\n",
       "      (bn2): BatchNorm2d(128, eps=1e-05, momentum=0.1, affine=True, track_running_stats=True)\n",
       "    )\n",
       "  )\n",
       "  (layer3): Sequential(\n",
       "    (0): BasicBlock(\n",
       "      (conv1): Conv2d(128, 256, kernel_size=(3, 3), stride=(2, 2), padding=(1, 1), bias=False)\n",
       "      (bn1): BatchNorm2d(256, eps=1e-05, momentum=0.1, affine=True, track_running_stats=True)\n",
       "      (relu): ReLU(inplace=True)\n",
       "      (drop): Dropout(p=0.6, inplace=False)\n",
       "      (conv2): Conv2d(256, 256, kernel_size=(3, 3), stride=(1, 1), padding=(1, 1), bias=False)\n",
       "      (bn2): BatchNorm2d(256, eps=1e-05, momentum=0.1, affine=True, track_running_stats=True)\n",
       "      (downsample): Sequential(\n",
       "        (0): Conv2d(128, 256, kernel_size=(1, 1), stride=(2, 2), bias=False)\n",
       "        (1): BatchNorm2d(256, eps=1e-05, momentum=0.1, affine=True, track_running_stats=True)\n",
       "      )\n",
       "    )\n",
       "    (1): BasicBlock(\n",
       "      (conv1): Conv2d(256, 256, kernel_size=(3, 3), stride=(1, 1), padding=(1, 1), bias=False)\n",
       "      (bn1): BatchNorm2d(256, eps=1e-05, momentum=0.1, affine=True, track_running_stats=True)\n",
       "      (relu): ReLU(inplace=True)\n",
       "      (drop): Dropout(p=0.6, inplace=False)\n",
       "      (conv2): Conv2d(256, 256, kernel_size=(3, 3), stride=(1, 1), padding=(1, 1), bias=False)\n",
       "      (bn2): BatchNorm2d(256, eps=1e-05, momentum=0.1, affine=True, track_running_stats=True)\n",
       "    )\n",
       "  )\n",
       "  (avgpool): AdaptiveAvgPool2d(output_size=(1, 1))\n",
       "  (fc): Linear(in_features=256, out_features=2, bias=True)\n",
       ")"
      ]
     },
     "execution_count": 161,
     "metadata": {},
     "output_type": "execute_result"
    }
   ],
   "source": [
    "model.to(device)\n",
    "model.eval()"
   ]
  },
  {
   "cell_type": "code",
   "execution_count": 162,
   "metadata": {},
   "outputs": [],
   "source": [
    "from PIL import Image\n",
    "import torchvision.transforms as transforms"
   ]
  },
  {
   "cell_type": "code",
   "execution_count": 170,
   "metadata": {},
   "outputs": [
    {
     "name": "stdout",
     "output_type": "stream",
     "text": [
      "Prediction for Data/LSIFIR/Classification/Test/neg/00040.png: 0\n"
     ]
    }
   ],
   "source": [
    "# prompt: write predict code for this model (with image read part)\n",
    "\n",
    "import torch\n",
    "from PIL import Image\n",
    "import numpy as np\n",
    "\n",
    "# Assuming 'model' and other necessary variables are defined as in the previous code\n",
    "\n",
    "def predict_image(image_path):\n",
    "    img = Image.open(image_path, mode='r')\n",
    "    data = np.asanyarray(img, dtype='uint8')\n",
    "    data = data.flatten()\n",
    "    image_tensor = torch.from_numpy(data).float()\n",
    "    image_tensor = image_tensor.view(1, 1, 64, 32).to(device)  # Add batch dimension and move to device\n",
    "\n",
    "    with torch.no_grad():\n",
    "        output = model(image_tensor)\n",
    "        _, predicted = torch.max(output.data, 1)\n",
    "\n",
    "    return predicted.item()\n",
    "\n",
    "\n",
    "# Example usage:\n",
    "image_path = \"Data/LSIFIR/Classification/Test/neg/00040.png\" # Replace with your image path\n",
    "prediction = predict_image(image_path)\n",
    "print(f\"Prediction for {image_path}: {prediction}\") # 0 for negative, 1 for positive\n"
   ]
  },
  {
   "cell_type": "code",
   "execution_count": null,
   "metadata": {},
   "outputs": [
    {
     "data": {
      "text/plain": [
       "tensor([[[[0.7608, 0.8196, 0.7059,  ..., 0.3176, 0.1961, 0.0941],\n",
       "          [0.8196, 0.8000, 0.8039,  ..., 0.1333, 0.8157, 0.7608],\n",
       "          [0.9490, 0.8706, 0.8196,  ..., 0.2863, 0.1412, 0.0784],\n",
       "          ...,\n",
       "          [0.4549, 0.3373, 0.2314,  ..., 0.4431, 0.5020, 0.4275],\n",
       "          [0.5020, 0.3451, 0.3725,  ..., 0.4471, 0.4275, 0.4784],\n",
       "          [0.5216, 0.4431, 0.5412,  ..., 0.5333, 0.5608, 0.4706]]]],\n",
       "       device='mps:0')"
      ]
     },
     "execution_count": 110,
     "metadata": {},
     "output_type": "execute_result"
    },
    {
     "ename": "",
     "evalue": "",
     "output_type": "error",
     "traceback": [
      "\u001b[1;31mnotebook controller is DISPOSED. \n",
      "\u001b[1;31mView Jupyter <a href='command:jupyter.viewOutput'>log</a> for further details."
     ]
    }
   ],
   "source": []
  },
  {
   "cell_type": "code",
   "execution_count": null,
   "metadata": {},
   "outputs": [
    {
     "name": "stdout",
     "output_type": "stream",
     "text": [
      "Tahmin edilen sınıf: 0\n"
     ]
    },
    {
     "ename": "",
     "evalue": "",
     "output_type": "error",
     "traceback": [
      "\u001b[1;31mnotebook controller is DISPOSED. \n",
      "\u001b[1;31mView Jupyter <a href='command:jupyter.viewOutput'>log</a> for further details."
     ]
    }
   ],
   "source": [
    "with torch.no_grad():\n",
    "    output = model(img_tensor)\n",
    "    _, predicted = torch.max(output.data, 1)\n",
    "\n",
    "print(f\"Tahmin edilen sınıf: {predicted.item()}\")"
   ]
  },
  {
   "cell_type": "code",
   "execution_count": 219,
   "metadata": {},
   "outputs": [
    {
     "data": {
      "image/png": "[encoded data removed]",
      "text/plain": [
       "<Figure size 640x480 with 1 Axes>"
      ]
     },
     "metadata": {},
     "output_type": "display_data"
    }
   ],
   "source": [
    "img = Image.open(\"Data/LSIFIR/Classification/Train/pos/00013.png\").resize((32,64))\n",
    "\n",
    "plt.imshow(img, cmap='gray')\n",
    "plt.axis('off')\n",
    "plt.show()"
   ]
  },
  {
   "cell_type": "code",
   "execution_count": 228,
   "metadata": {},
   "outputs": [
    {
     "data": {
      "image/png": "[encoded data removed]",
      "text/plain": [
       "<Figure size 640x480 with 1 Axes>"
      ]
     },
     "metadata": {},
     "output_type": "display_data"
    }
   ],
   "source": [
    "img = Image.open(\"Data/LSIFIR/Detection/Test/01/00002.png\")\n",
    "\n",
    "plt.imshow(img, cmap='gray')\n",
    "plt.axis('off')\n",
    "plt.show()"
   ]
  },
  {
   "cell_type": "code",
   "execution_count": 202,
   "metadata": {},
   "outputs": [
    {
     "data": {
      "image/png": "[encoded data removed]",
      "text/plain": [
       "<Figure size 1200x800 with 1 Axes>"
      ]
     },
     "metadata": {},
     "output_type": "display_data"
    }
   ],
   "source": [
    "import numpy as np\n",
    "from PIL import Image\n",
    "import matplotlib.pyplot as plt\n",
    "import matplotlib.patches as patches\n",
    "import torch\n",
    "\n",
    "def predict_window(window):\n",
    "    data = window.flatten()\n",
    "    image_tensor = torch.from_numpy(data).float()\n",
    "    image_tensor = image_tensor.view(1, 1, 64, 32).to(device)\n",
    "\n",
    "    with torch.no_grad():\n",
    "        output = model(image_tensor)\n",
    "        _, predicted = torch.max(output.data, 1)\n",
    "\n",
    "    return predicted.item()\n",
    "\n",
    "# --- 1. Büyük resmi oku ---\n",
    "image_path = \"Data/LSIFIR/Detection/Test/04/00008.png\"\n",
    "big_image = Image.open(image_path, mode='r')\n",
    "big_image_np = np.asarray(big_image, dtype='uint8')\n",
    "\n",
    "height, width = big_image_np.shape\n",
    "\n",
    "# --- 2. Plot oluştur ---\n",
    "fig, ax = plt.subplots(1, figsize=(12, 8))\n",
    "ax.imshow(big_image_np, cmap='gray', vmin=0, vmax=255)  # Tonları sabitle!\n",
    "\n",
    "# --- 3. Sliding window ayarları ---\n",
    "window_height = 64\n",
    "window_width = 32\n",
    "step_size = 16\n",
    "\n",
    "# --- 4. Sliding window ---\n",
    "for y in range(0, height - window_height + 1, step_size):\n",
    "    for x in range(0, width - window_width + 1, step_size):\n",
    "        window = big_image_np[y:y + window_height, x:x + window_width]\n",
    "\n",
    "        if window.shape != (64, 32):\n",
    "            continue\n",
    "\n",
    "        prediction = predict_window(window)\n",
    "\n",
    "        if prediction == 1:\n",
    "            rect = patches.Rectangle(\n",
    "                (x, y),\n",
    "                window_width,\n",
    "                window_height,\n",
    "                linewidth=2,\n",
    "                edgecolor='blue',\n",
    "                facecolor='none'\n",
    "            )\n",
    "            ax.add_patch(rect)\n",
    "\n",
    "plt.axis('off')\n",
    "plt.show()\n"
   ]
  },
  {
   "cell_type": "code",
   "execution_count": 243,
   "metadata": {},
   "outputs": [
    {
     "data": {
      "image/png": "[encoded data removed]",
      "text/plain": [
       "<Figure size 1200x800 with 1 Axes>"
      ]
     },
     "metadata": {},
     "output_type": "display_data"
    },
    {
     "name": "stdout",
     "output_type": "stream",
     "text": [
      "Sonuç kaydedildi: output/00001.png\n"
     ]
    }
   ],
   "source": [
    "import numpy as np\n",
    "from PIL import Image\n",
    "import matplotlib.pyplot as plt\n",
    "import matplotlib.patches as patches\n",
    "import torch\n",
    "\n",
    "# --- 1. Pencereyi modele verip tahmin dönen fonksiyon ---\n",
    "def predict_window(window):\n",
    "    data = window.flatten()\n",
    "    image_tensor = torch.from_numpy(data).float()\n",
    "    image_tensor = image_tensor.view(1, 1, 64, 32).to(device)\n",
    "\n",
    "    with torch.no_grad():\n",
    "        output = model(image_tensor)\n",
    "        _, predicted = torch.max(output.data, 1)\n",
    "\n",
    "    return predicted.item()\n",
    "\n",
    "# --- 2. Non-Maximum Suppression fonksiyonu ---\n",
    "def non_max_suppression_fast(boxes, overlapThresh):\n",
    "    if len(boxes) == 0:\n",
    "        return []\n",
    "\n",
    "    boxes = np.array(boxes).astype(\"float\")\n",
    "    pick = []\n",
    "\n",
    "    x1 = boxes[:, 0]\n",
    "    y1 = boxes[:, 1]\n",
    "    x2 = boxes[:, 0] + boxes[:, 2]\n",
    "    y2 = boxes[:, 1] + boxes[:, 3]\n",
    "\n",
    "    area = (x2 - x1 + 1) * (y2 - y1 + 1)\n",
    "    idxs = np.argsort(y2)\n",
    "\n",
    "    while len(idxs) > 0:\n",
    "        last = idxs[-1]\n",
    "        pick.append(last)\n",
    "        suppress = [last]\n",
    "\n",
    "        for pos in idxs[:-1]:\n",
    "            xx1 = max(x1[last], x1[pos])\n",
    "            yy1 = max(y1[last], y1[pos])\n",
    "            xx2 = min(x2[last], x2[pos])\n",
    "            yy2 = min(y2[last], y2[pos])\n",
    "\n",
    "            w = max(0, xx2 - xx1 + 1)\n",
    "            h = max(0, yy2 - yy1 + 1)\n",
    "            overlap = float(w * h) / area[pos]\n",
    "\n",
    "            if overlap > overlapThresh:\n",
    "                suppress.append(pos)\n",
    "\n",
    "        idxs = np.delete(idxs, suppress)\n",
    "\n",
    "    return boxes[pick].astype(\"int\")\n",
    "\n",
    "# --- 3. Büyük resmi oku ---\n",
    "image_path = \"Data/LSIFIR/Detection/Test/07/00001.png\"\n",
    "big_image = Image.open(image_path, mode='r')\n",
    "big_image_np = np.asarray(big_image, dtype='uint8')\n",
    "\n",
    "height, width = big_image_np.shape\n",
    "\n",
    "# --- 4. Sliding window ayarları ---\n",
    "window_height = 64\n",
    "window_width = 32\n",
    "step_size = 16\n",
    "\n",
    "detected_boxes = []\n",
    "\n",
    "# --- 5. Sliding window taraması ---\n",
    "for y in range(0, height - window_height + 1, step_size):\n",
    "    for x in range(0, width - window_width + 1, step_size):\n",
    "        window = big_image_np[y:y + window_height, x:x + window_width]\n",
    "\n",
    "        if window.shape != (64, 32):\n",
    "            continue\n",
    "\n",
    "        prediction = predict_window(window)\n",
    "\n",
    "        if prediction == 1:\n",
    "            detected_boxes.append([x, y, window_width, window_height])\n",
    "\n",
    "# --- 6. NMS uygulaması ---\n",
    "nms_boxes = non_max_suppression_fast(detected_boxes, overlapThresh=0.3)\n",
    "\n",
    "# --- 7. Kutuları çiz ---\n",
    "fig, ax = plt.subplots(1, figsize=(12, 8))\n",
    "ax.imshow(big_image_np, cmap='gray', vmin=0, vmax=255)\n",
    "\n",
    "for box in nms_boxes:\n",
    "    rect = patches.Rectangle(\n",
    "        (box[0], box[1]),\n",
    "        box[2],\n",
    "        box[3],\n",
    "        linewidth=2,\n",
    "        edgecolor='blue',\n",
    "        facecolor='none'\n",
    "    )\n",
    "    ax.add_patch(rect)\n",
    "\n",
    "    # Etiket yaz\n",
    "    ax.text(box[0], box[1] - 5, 'İnsan', color='blue', fontsize=12, weight='bold')\n",
    "\n",
    "plt.axis('off')\n",
    "plt.show()\n",
    "\n",
    "output_dir = \"output\"\n",
    "os.makedirs(output_dir, exist_ok=True)\n",
    "\n",
    "output_path = os.path.join(output_dir, os.path.basename(image_path))\n",
    "fig.savefig(output_path, bbox_inches='tight', dpi=150)\n",
    "plt.close(fig)\n",
    "\n",
    "print(f\"Sonuç kaydedildi: {output_path}\")\n"
   ]
  },
  {
   "cell_type": "markdown",
   "metadata": {},
   "source": [
    "<h1>Final"
   ]
  },
  {
   "cell_type": "code",
   "execution_count": 244,
   "metadata": {},
   "outputs": [
    {
     "name": "stdout",
     "output_type": "stream",
     "text": [
      "00000.png kaydedildi.\n",
      "00001.png kaydedildi.\n",
      "00002.png kaydedildi.\n",
      "00003.png kaydedildi.\n",
      "00004.png kaydedildi.\n",
      "00005.png kaydedildi.\n",
      "00006.png kaydedildi.\n",
      "00007.png kaydedildi.\n",
      "00008.png kaydedildi.\n",
      "00009.png kaydedildi.\n",
      "00010.png kaydedildi.\n",
      "00011.png kaydedildi.\n",
      "00012.png kaydedildi.\n",
      "00013.png kaydedildi.\n",
      "00014.png kaydedildi.\n",
      "00015.png kaydedildi.\n",
      "00016.png kaydedildi.\n",
      "00017.png kaydedildi.\n",
      "00018.png kaydedildi.\n",
      "00019.png kaydedildi.\n",
      "00020.png kaydedildi.\n",
      "00021.png kaydedildi.\n",
      "00022.png kaydedildi.\n",
      "00023.png kaydedildi.\n",
      "00024.png kaydedildi.\n",
      "00025.png kaydedildi.\n",
      "00026.png kaydedildi.\n",
      "00027.png kaydedildi.\n",
      "00028.png kaydedildi.\n",
      "00029.png kaydedildi.\n",
      "00030.png kaydedildi.\n",
      "00031.png kaydedildi.\n",
      "00032.png kaydedildi.\n",
      "00033.png kaydedildi.\n",
      "00034.png kaydedildi.\n",
      "00035.png kaydedildi.\n",
      "00036.png kaydedildi.\n",
      "00037.png kaydedildi.\n",
      "00038.png kaydedildi.\n",
      "00039.png kaydedildi.\n",
      "00040.png kaydedildi.\n",
      "00041.png kaydedildi.\n",
      "00042.png kaydedildi.\n",
      "00043.png kaydedildi.\n",
      "00044.png kaydedildi.\n",
      "00045.png kaydedildi.\n",
      "00046.png kaydedildi.\n",
      "00047.png kaydedildi.\n",
      "00048.png kaydedildi.\n",
      "00049.png kaydedildi.\n",
      "00050.png kaydedildi.\n",
      "00051.png kaydedildi.\n",
      "00052.png kaydedildi.\n",
      "00053.png kaydedildi.\n",
      "00054.png kaydedildi.\n",
      "00055.png kaydedildi.\n",
      "00056.png kaydedildi.\n",
      "00057.png kaydedildi.\n",
      "00058.png kaydedildi.\n",
      "00059.png kaydedildi.\n",
      "00060.png kaydedildi.\n",
      "00061.png kaydedildi.\n",
      "00062.png kaydedildi.\n",
      "00063.png kaydedildi.\n",
      "00064.png kaydedildi.\n",
      "00065.png kaydedildi.\n",
      "00066.png kaydedildi.\n",
      "00067.png kaydedildi.\n",
      "00068.png kaydedildi.\n",
      "00069.png kaydedildi.\n",
      "00070.png kaydedildi.\n",
      "00071.png kaydedildi.\n",
      "00072.png kaydedildi.\n",
      "00073.png kaydedildi.\n",
      "00074.png kaydedildi.\n",
      "00075.png kaydedildi.\n",
      "00076.png kaydedildi.\n",
      "00077.png kaydedildi.\n",
      "00078.png kaydedildi.\n",
      "00079.png kaydedildi.\n",
      "00080.png kaydedildi.\n",
      "00081.png kaydedildi.\n",
      "00082.png kaydedildi.\n",
      "00083.png kaydedildi.\n",
      "00084.png kaydedildi.\n",
      "00085.png kaydedildi.\n",
      "00086.png kaydedildi.\n",
      "00087.png kaydedildi.\n",
      "00088.png kaydedildi.\n",
      "00089.png kaydedildi.\n",
      "00090.png kaydedildi.\n",
      "00091.png kaydedildi.\n",
      "00092.png kaydedildi.\n",
      "00093.png kaydedildi.\n",
      "00094.png kaydedildi.\n",
      "00095.png kaydedildi.\n",
      "00096.png kaydedildi.\n",
      "00097.png kaydedildi.\n",
      "00098.png kaydedildi.\n",
      "00099.png kaydedildi.\n",
      "00100.png kaydedildi.\n",
      "00101.png kaydedildi.\n",
      "00102.png kaydedildi.\n",
      "00103.png kaydedildi.\n",
      "00104.png kaydedildi.\n",
      "00105.png kaydedildi.\n",
      "00106.png kaydedildi.\n",
      "00107.png kaydedildi.\n",
      "00108.png kaydedildi.\n",
      "00109.png kaydedildi.\n",
      "00110.png kaydedildi.\n",
      "00111.png kaydedildi.\n",
      "00112.png kaydedildi.\n",
      "00113.png kaydedildi.\n",
      "00114.png kaydedildi.\n",
      "00115.png kaydedildi.\n",
      "00116.png kaydedildi.\n",
      "00117.png kaydedildi.\n",
      "00118.png kaydedildi.\n",
      "00119.png kaydedildi.\n",
      "00120.png kaydedildi.\n",
      "00121.png kaydedildi.\n",
      "00122.png kaydedildi.\n",
      "00123.png kaydedildi.\n",
      "00124.png kaydedildi.\n",
      "00125.png kaydedildi.\n",
      "00126.png kaydedildi.\n",
      "00127.png kaydedildi.\n",
      "00128.png kaydedildi.\n",
      "00129.png kaydedildi.\n",
      "00130.png kaydedildi.\n",
      "00131.png kaydedildi.\n",
      "00132.png kaydedildi.\n",
      "00133.png kaydedildi.\n",
      "00134.png kaydedildi.\n",
      "00135.png kaydedildi.\n",
      "00136.png kaydedildi.\n",
      "00137.png kaydedildi.\n",
      "00138.png kaydedildi.\n",
      "00139.png kaydedildi.\n",
      "00140.png kaydedildi.\n",
      "00141.png kaydedildi.\n",
      "00142.png kaydedildi.\n",
      "00143.png kaydedildi.\n",
      "00144.png kaydedildi.\n",
      "00145.png kaydedildi.\n",
      "00146.png kaydedildi.\n",
      "00147.png kaydedildi.\n",
      "00148.png kaydedildi.\n",
      "00149.png kaydedildi.\n",
      "00150.png kaydedildi.\n",
      "00151.png kaydedildi.\n",
      "00152.png kaydedildi.\n",
      "00153.png kaydedildi.\n",
      "00154.png kaydedildi.\n",
      "00155.png kaydedildi.\n",
      "00156.png kaydedildi.\n",
      "00157.png kaydedildi.\n",
      "00158.png kaydedildi.\n",
      "00159.png kaydedildi.\n",
      "00160.png kaydedildi.\n",
      "00161.png kaydedildi.\n",
      "00162.png kaydedildi.\n",
      "00163.png kaydedildi.\n",
      "00164.png kaydedildi.\n",
      "00165.png kaydedildi.\n",
      "00166.png kaydedildi.\n",
      "00167.png kaydedildi.\n",
      "00168.png kaydedildi.\n",
      "00169.png kaydedildi.\n",
      "00170.png kaydedildi.\n",
      "00171.png kaydedildi.\n",
      "00172.png kaydedildi.\n",
      "00173.png kaydedildi.\n",
      "00174.png kaydedildi.\n",
      "00175.png kaydedildi.\n",
      "00176.png kaydedildi.\n",
      "00177.png kaydedildi.\n",
      "00178.png kaydedildi.\n",
      "00179.png kaydedildi.\n",
      "00180.png kaydedildi.\n",
      "00181.png kaydedildi.\n",
      "00182.png kaydedildi.\n",
      "00183.png kaydedildi.\n",
      "00184.png kaydedildi.\n",
      "00185.png kaydedildi.\n",
      "00186.png kaydedildi.\n",
      "00187.png kaydedildi.\n",
      "00188.png kaydedildi.\n",
      "00189.png kaydedildi.\n",
      "00190.png kaydedildi.\n",
      "00191.png kaydedildi.\n",
      "00192.png kaydedildi.\n",
      "00193.png kaydedildi.\n",
      "00194.png kaydedildi.\n",
      "00195.png kaydedildi.\n",
      "00196.png kaydedildi.\n",
      "00197.png kaydedildi.\n",
      "00198.png kaydedildi.\n",
      "00199.png kaydedildi.\n",
      "00200.png kaydedildi.\n",
      "00201.png kaydedildi.\n",
      "00202.png kaydedildi.\n",
      "00203.png kaydedildi.\n",
      "00204.png kaydedildi.\n",
      "00205.png kaydedildi.\n",
      "00206.png kaydedildi.\n",
      "00207.png kaydedildi.\n",
      "00208.png kaydedildi.\n",
      "00209.png kaydedildi.\n",
      "00210.png kaydedildi.\n",
      "00211.png kaydedildi.\n",
      "00212.png kaydedildi.\n",
      "00213.png kaydedildi.\n",
      "00214.png kaydedildi.\n",
      "00215.png kaydedildi.\n",
      "00216.png kaydedildi.\n",
      "00217.png kaydedildi.\n",
      "00218.png kaydedildi.\n",
      "00219.png kaydedildi.\n",
      "00220.png kaydedildi.\n",
      "00221.png kaydedildi.\n",
      "00222.png kaydedildi.\n",
      "00223.png kaydedildi.\n",
      "00224.png kaydedildi.\n",
      "00225.png kaydedildi.\n",
      "00226.png kaydedildi.\n",
      "00227.png kaydedildi.\n",
      "00228.png kaydedildi.\n",
      "00229.png kaydedildi.\n",
      "00230.png kaydedildi.\n",
      "00231.png kaydedildi.\n",
      "00232.png kaydedildi.\n",
      "00233.png kaydedildi.\n",
      "00234.png kaydedildi.\n",
      "00235.png kaydedildi.\n",
      "00236.png kaydedildi.\n",
      "00237.png kaydedildi.\n",
      "00238.png kaydedildi.\n",
      "00239.png kaydedildi.\n",
      "00240.png kaydedildi.\n",
      "00241.png kaydedildi.\n",
      "00242.png kaydedildi.\n",
      "00243.png kaydedildi.\n",
      "00244.png kaydedildi.\n",
      "00245.png kaydedildi.\n",
      "00246.png kaydedildi.\n",
      "00247.png kaydedildi.\n",
      "00248.png kaydedildi.\n",
      "00249.png kaydedildi.\n",
      "00250.png kaydedildi.\n",
      "00251.png kaydedildi.\n",
      "00252.png kaydedildi.\n",
      "00253.png kaydedildi.\n",
      "00254.png kaydedildi.\n",
      "00255.png kaydedildi.\n",
      "00256.png kaydedildi.\n",
      "00257.png kaydedildi.\n",
      "00258.png kaydedildi.\n",
      "00259.png kaydedildi.\n",
      "00260.png kaydedildi.\n",
      "00261.png kaydedildi.\n",
      "00262.png kaydedildi.\n",
      "00263.png kaydedildi.\n",
      "00264.png kaydedildi.\n",
      "00265.png kaydedildi.\n",
      "00266.png kaydedildi.\n",
      "00267.png kaydedildi.\n",
      "00268.png kaydedildi.\n",
      "00269.png kaydedildi.\n",
      "00270.png kaydedildi.\n",
      "00271.png kaydedildi.\n",
      "00272.png kaydedildi.\n",
      "00273.png kaydedildi.\n",
      "00274.png kaydedildi.\n",
      "00275.png kaydedildi.\n",
      "00276.png kaydedildi.\n",
      "00277.png kaydedildi.\n",
      "00278.png kaydedildi.\n",
      "00279.png kaydedildi.\n",
      "00280.png kaydedildi.\n",
      "00281.png kaydedildi.\n",
      "00282.png kaydedildi.\n",
      "00283.png kaydedildi.\n",
      "00284.png kaydedildi.\n",
      "00285.png kaydedildi.\n",
      "00286.png kaydedildi.\n",
      "00287.png kaydedildi.\n",
      "00288.png kaydedildi.\n",
      "00289.png kaydedildi.\n",
      "00290.png kaydedildi.\n",
      "00291.png kaydedildi.\n",
      "00292.png kaydedildi.\n",
      "00293.png kaydedildi.\n",
      "00294.png kaydedildi.\n",
      "00295.png kaydedildi.\n",
      "00296.png kaydedildi.\n",
      "00297.png kaydedildi.\n",
      "00298.png kaydedildi.\n",
      "00299.png kaydedildi.\n",
      "00300.png kaydedildi.\n",
      "00301.png kaydedildi.\n",
      "00302.png kaydedildi.\n",
      "00303.png kaydedildi.\n",
      "00304.png kaydedildi.\n",
      "00305.png kaydedildi.\n",
      "00306.png kaydedildi.\n",
      "00307.png kaydedildi.\n",
      "00308.png kaydedildi.\n",
      "00309.png kaydedildi.\n",
      "00310.png kaydedildi.\n",
      "00311.png kaydedildi.\n",
      "00312.png kaydedildi.\n",
      "00313.png kaydedildi.\n",
      "00314.png kaydedildi.\n",
      "00315.png kaydedildi.\n",
      "00316.png kaydedildi.\n",
      "00317.png kaydedildi.\n",
      "00318.png kaydedildi.\n",
      "00319.png kaydedildi.\n",
      "00320.png kaydedildi.\n",
      "00321.png kaydedildi.\n",
      "00322.png kaydedildi.\n",
      "00323.png kaydedildi.\n",
      "00324.png kaydedildi.\n",
      "00325.png kaydedildi.\n",
      "00326.png kaydedildi.\n",
      "00327.png kaydedildi.\n",
      "00328.png kaydedildi.\n",
      "00329.png kaydedildi.\n",
      "00330.png kaydedildi.\n",
      "00331.png kaydedildi.\n",
      "00332.png kaydedildi.\n",
      "00333.png kaydedildi.\n",
      "00334.png kaydedildi.\n",
      "00335.png kaydedildi.\n",
      "00336.png kaydedildi.\n",
      "00337.png kaydedildi.\n",
      "00338.png kaydedildi.\n",
      "00339.png kaydedildi.\n",
      "00340.png kaydedildi.\n",
      "00341.png kaydedildi.\n",
      "00342.png kaydedildi.\n",
      "00343.png kaydedildi.\n",
      "00344.png kaydedildi.\n",
      "00345.png kaydedildi.\n",
      "00346.png kaydedildi.\n",
      "00347.png kaydedildi.\n",
      "00348.png kaydedildi.\n",
      "00349.png kaydedildi.\n",
      "00350.png kaydedildi.\n",
      "00351.png kaydedildi.\n",
      "00352.png kaydedildi.\n",
      "00353.png kaydedildi.\n",
      "00354.png kaydedildi.\n",
      "00355.png kaydedildi.\n",
      "00356.png kaydedildi.\n",
      "00357.png kaydedildi.\n",
      "00358.png kaydedildi.\n",
      "00359.png kaydedildi.\n",
      "00360.png kaydedildi.\n",
      "00361.png kaydedildi.\n",
      "00362.png kaydedildi.\n",
      "00363.png kaydedildi.\n",
      "00364.png kaydedildi.\n",
      "00365.png kaydedildi.\n",
      "00366.png kaydedildi.\n",
      "00367.png kaydedildi.\n",
      "00368.png kaydedildi.\n",
      "00369.png kaydedildi.\n",
      "00370.png kaydedildi.\n",
      "00371.png kaydedildi.\n",
      "00372.png kaydedildi.\n",
      "00373.png kaydedildi.\n",
      "00374.png kaydedildi.\n",
      "00375.png kaydedildi.\n",
      "00376.png kaydedildi.\n",
      "00377.png kaydedildi.\n",
      "00378.png kaydedildi.\n",
      "00379.png kaydedildi.\n",
      "00380.png kaydedildi.\n",
      "00381.png kaydedildi.\n",
      "00382.png kaydedildi.\n",
      "00383.png kaydedildi.\n",
      "00384.png kaydedildi.\n",
      "00385.png kaydedildi.\n",
      "00386.png kaydedildi.\n",
      "00387.png kaydedildi.\n",
      "00388.png kaydedildi.\n",
      "00389.png kaydedildi.\n",
      "00390.png kaydedildi.\n",
      "00391.png kaydedildi.\n",
      "00392.png kaydedildi.\n",
      "00393.png kaydedildi.\n",
      "00394.png kaydedildi.\n",
      "00395.png kaydedildi.\n",
      "00396.png kaydedildi.\n",
      "00397.png kaydedildi.\n",
      "00398.png kaydedildi.\n"
     ]
    },
    {
     "ename": "KeyboardInterrupt",
     "evalue": "",
     "output_type": "error",
     "traceback": [
      "\u001b[0;31m---------------------------------------------------------------------------\u001b[0m",
      "\u001b[0;31mKeyboardInterrupt\u001b[0m                         Traceback (most recent call last)",
      "Cell \u001b[0;32mIn[244], line 124\u001b[0m\n\u001b[1;32m    122\u001b[0m     \u001b[38;5;28;01mif\u001b[39;00m filename\u001b[38;5;241m.\u001b[39mlower()\u001b[38;5;241m.\u001b[39mendswith(\u001b[38;5;124m\"\u001b[39m\u001b[38;5;124m.png\u001b[39m\u001b[38;5;124m\"\u001b[39m):\n\u001b[1;32m    123\u001b[0m         image_path \u001b[38;5;241m=\u001b[39m os\u001b[38;5;241m.\u001b[39mpath\u001b[38;5;241m.\u001b[39mjoin(input_dir, filename)\n\u001b[0;32m--> 124\u001b[0m         \u001b[43mprocess_image\u001b[49m\u001b[43m(\u001b[49m\u001b[43mimage_path\u001b[49m\u001b[43m,\u001b[49m\u001b[43m \u001b[49m\u001b[43moutput_dir\u001b[49m\u001b[43m)\u001b[49m\n\u001b[1;32m    126\u001b[0m \u001b[38;5;28mprint\u001b[39m(\u001b[38;5;124m\"\u001b[39m\u001b[38;5;124mTüm görseller işlendi ve kaydedildi.\u001b[39m\u001b[38;5;124m\"\u001b[39m)\n",
      "Cell \u001b[0;32mIn[244], line 84\u001b[0m, in \u001b[0;36mprocess_image\u001b[0;34m(image_path, output_dir)\u001b[0m\n\u001b[1;32m     81\u001b[0m \u001b[38;5;28;01mif\u001b[39;00m window\u001b[38;5;241m.\u001b[39mshape \u001b[38;5;241m!=\u001b[39m (\u001b[38;5;241m64\u001b[39m, \u001b[38;5;241m32\u001b[39m):\n\u001b[1;32m     82\u001b[0m     \u001b[38;5;28;01mcontinue\u001b[39;00m\n\u001b[0;32m---> 84\u001b[0m prediction \u001b[38;5;241m=\u001b[39m \u001b[43mpredict_window\u001b[49m\u001b[43m(\u001b[49m\u001b[43mwindow\u001b[49m\u001b[43m)\u001b[49m\n\u001b[1;32m     86\u001b[0m \u001b[38;5;28;01mif\u001b[39;00m prediction \u001b[38;5;241m==\u001b[39m \u001b[38;5;241m1\u001b[39m:\n\u001b[1;32m     87\u001b[0m     detected_boxes\u001b[38;5;241m.\u001b[39mappend([x, y, window_width, window_height])\n",
      "Cell \u001b[0;32mIn[244], line 18\u001b[0m, in \u001b[0;36mpredict_window\u001b[0;34m(window)\u001b[0m\n\u001b[1;32m     15\u001b[0m     output \u001b[38;5;241m=\u001b[39m model(image_tensor)\n\u001b[1;32m     16\u001b[0m     _, predicted \u001b[38;5;241m=\u001b[39m torch\u001b[38;5;241m.\u001b[39mmax(output\u001b[38;5;241m.\u001b[39mdata, \u001b[38;5;241m1\u001b[39m)\n\u001b[0;32m---> 18\u001b[0m \u001b[38;5;28;01mreturn\u001b[39;00m \u001b[43mpredicted\u001b[49m\u001b[38;5;241;43m.\u001b[39;49m\u001b[43mitem\u001b[49m\u001b[43m(\u001b[49m\u001b[43m)\u001b[49m\n",
      "\u001b[0;31mKeyboardInterrupt\u001b[0m: "
     ]
    }
   ],
   "source": [
    "import numpy as np\n",
    "from PIL import Image\n",
    "import matplotlib.pyplot as plt\n",
    "import matplotlib.patches as patches\n",
    "import torch\n",
    "import os\n",
    "\n",
    "# --- 1. Pencereyi modele verip tahmin dönen fonksiyon ---\n",
    "def predict_window(window):\n",
    "    data = window.flatten()\n",
    "    image_tensor = torch.from_numpy(data).float()\n",
    "    image_tensor = image_tensor.view(1, 1, 64, 32).to(device)\n",
    "\n",
    "    with torch.no_grad():\n",
    "        output = model(image_tensor)\n",
    "        _, predicted = torch.max(output.data, 1)\n",
    "\n",
    "    return predicted.item()\n",
    "\n",
    "# --- 2. Non-Maximum Suppression fonksiyonu ---\n",
    "def non_max_suppression_fast(boxes, overlapThresh):\n",
    "    if len(boxes) == 0:\n",
    "        return []\n",
    "\n",
    "    boxes = np.array(boxes).astype(\"float\")\n",
    "    pick = []\n",
    "\n",
    "    x1 = boxes[:, 0]\n",
    "    y1 = boxes[:, 1]\n",
    "    x2 = boxes[:, 0] + boxes[:, 2]\n",
    "    y2 = boxes[:, 1] + boxes[:, 3]\n",
    "\n",
    "    area = (x2 - x1 + 1) * (y2 - y1 + 1)\n",
    "    idxs = np.argsort(y2)\n",
    "\n",
    "    while len(idxs) > 0:\n",
    "        last = idxs[-1]\n",
    "        pick.append(last)\n",
    "        suppress = [len(idxs) - 1]  # idxs'deki son pozisyon (pozisyon, index değil)\n",
    "\n",
    "        for pos in range(len(idxs) - 1):\n",
    "            i = last       # last zaten kutunun gerçek indexi\n",
    "            j = idxs[pos]  # karşılaştırılan kutunun indexi\n",
    "\n",
    "            xx1 = max(x1[i], x1[j])\n",
    "            yy1 = max(y1[i], y1[j])\n",
    "            xx2 = min(x2[i], x2[j])\n",
    "            yy2 = min(y2[i], y2[j])\n",
    "\n",
    "            w = max(0, xx2 - xx1 + 1)\n",
    "            h = max(0, yy2 - yy1 + 1)\n",
    "            overlap = float(w * h) / area[j]\n",
    "\n",
    "            if overlap > overlapThresh:\n",
    "                suppress.append(pos)\n",
    "\n",
    "        idxs = np.delete(idxs, suppress)\n",
    "\n",
    "    return boxes[pick].astype(\"int\")\n",
    "\n",
    "\n",
    "\n",
    "\n",
    "# --- 3. Sliding window + NMS + çizim işlemini yapan fonksiyon ---\n",
    "def process_image(image_path, output_dir):\n",
    "    big_image = Image.open(image_path, mode='r')\n",
    "    big_image_np = np.asarray(big_image, dtype='uint8')\n",
    "\n",
    "    height, width = big_image_np.shape\n",
    "\n",
    "    window_height = 64\n",
    "    window_width = 32\n",
    "    step_size = 16\n",
    "\n",
    "    detected_boxes = []\n",
    "\n",
    "    for y in range(0, height - window_height + 1, step_size):\n",
    "        for x in range(0, width - window_width + 1, step_size):\n",
    "            window = big_image_np[y:y + window_height, x:x + window_width]\n",
    "\n",
    "            if window.shape != (64, 32):\n",
    "                continue\n",
    "\n",
    "            prediction = predict_window(window)\n",
    "\n",
    "            if prediction == 1:\n",
    "                detected_boxes.append([x, y, window_width, window_height])\n",
    "\n",
    "    nms_boxes = non_max_suppression_fast(detected_boxes, overlapThresh=0.3)\n",
    "\n",
    "    # Görseli çiz\n",
    "    fig, ax = plt.subplots(1, figsize=(12, 8))\n",
    "    ax.imshow(big_image_np, cmap='gray', vmin=0, vmax=255)\n",
    "\n",
    "    for box in nms_boxes:\n",
    "        rect = patches.Rectangle(\n",
    "            (box[0], box[1]),\n",
    "            box[2],\n",
    "            box[3],\n",
    "            linewidth=2,\n",
    "            edgecolor='blue',\n",
    "            facecolor='none'\n",
    "        )\n",
    "        ax.add_patch(rect)\n",
    "        ax.text(box[0], box[1] - 5, 'İnsan', color='blue', fontsize=12, weight='bold')\n",
    "\n",
    "    plt.axis('off')\n",
    "\n",
    "    # Kaydet\n",
    "    os.makedirs(output_dir, exist_ok=True)\n",
    "    output_path = os.path.join(output_dir, os.path.basename(image_path))\n",
    "    fig.savefig(output_path, bbox_inches='tight', dpi=150)\n",
    "    plt.close(fig)\n",
    "\n",
    "    print(f\"{os.path.basename(image_path)} kaydedildi.\")\n",
    "\n",
    "# --- 4. Tüm klasörü işle ---\n",
    "input_dir = \"Data/LSIFIR/Detection/Test/07\"\n",
    "output_dir = \"output\"\n",
    "\n",
    "for filename in sorted(os.listdir(input_dir)):\n",
    "    if filename.lower().endswith(\".png\"):\n",
    "        image_path = os.path.join(input_dir, filename)\n",
    "        process_image(image_path, output_dir)\n",
    "\n",
    "print(\"Tüm görseller işlendi ve kaydedildi.\")\n"
   ]
  },
  {
   "cell_type": "code",
   "execution_count": 236,
   "metadata": {},
   "outputs": [
    {
     "name": "stdout",
     "output_type": "stream",
     "text": [
      "Video başarıyla kaydedildi: output3_video.mp4\n"
     ]
    }
   ],
   "source": [
    "import cv2\n",
    "import os\n",
    "\n",
    "# 1. Klasör ve çıkış videosu yolu\n",
    "image_folder = 'output'\n",
    "video_name = 'output3_video.mp4'\n",
    "\n",
    "# 2. Resimleri sırala (isimlerdeki sayılara göre)\n",
    "images = [img for img in os.listdir(image_folder) if img.endswith(\".png\")]\n",
    "images = sorted(images, key=lambda x: int(''.join(filter(str.isdigit, x))))  # natsort gerekmez!\n",
    "\n",
    "# 3. İlk görselden boyut al\n",
    "frame = cv2.imread(os.path.join(image_folder, images[0]))\n",
    "height, width, layers = frame.shape\n",
    "\n",
    "# 4. VideoWriter objesi (MP4 formatı, 10 fps)\n",
    "video = cv2.VideoWriter(video_name, cv2.VideoWriter_fourcc(*'mp4v'), 10, (width, height))\n",
    "\n",
    "# 5. Kareleri videoya ekle\n",
    "for image in images:\n",
    "    frame = cv2.imread(os.path.join(image_folder, image))\n",
    "    video.write(frame)\n",
    "\n",
    "video.release()\n",
    "\n",
    "print(f\"Video başarıyla kaydedildi: {video_name}\")\n"
   ]
  },
  {
   "cell_type": "code",
   "execution_count": null,
   "metadata": {},
   "outputs": [],
   "source": []
  }
 ],
 "metadata": {
  "kernelspec": {
   "display_name": "env",
   "language": "python",
   "name": "python3"
  },
  "language_info": {
   "codemirror_mode": {
    "name": "ipython",
    "version": 3
   },
   "file_extension": ".py",
   "mimetype": "text/x-python",
   "name": "python",
   "nbconvert_exporter": "python",
   "pygments_lexer": "ipython3",
   "version": "3.12.3"
  }
 },
 "nbformat": 4,
 "nbformat_minor": 2
}
